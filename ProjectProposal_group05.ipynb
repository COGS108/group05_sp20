{
 "cells": [
  {
   "cell_type": "markdown",
   "metadata": {},
   "source": [
    "# COGS 108 - Project Proposal"
   ]
  },
  {
   "cell_type": "markdown",
   "metadata": {},
   "source": [
    "# Names & PID\n",
    "\n",
    "- Gadi Rosen<br>\n",
    "  PID:A16105613\n",
    "- Henry Lozada<br>\n",
    "  PID:A15127559\n",
    "- Joshua Paz<br>\n",
    "  PID:A13300845\n",
    "- Rujvi Mehendre<br>\n",
    "  PID:A14553468\n"
   ]
  },
  {
   "cell_type": "markdown",
   "metadata": {},
   "source": [
    "# Research Question"
   ]
  },
  {
   "cell_type": "markdown",
   "metadata": {},
   "source": [
    "How has the outbreak of COVID-19 affected food security in communities in the greater San Diego area?"
   ]
  },
  {
   "cell_type": "markdown",
   "metadata": {},
   "source": [
    "## Background and Prior Work"
   ]
  },
  {
   "cell_type": "markdown",
   "metadata": {},
   "source": [
    "### Why is this project of interest to your group?<br>\n",
    "&emsp;The pandemic has claimed many lives, but its impact on the US goes beyond that. People of limited financial means have been disproportionately affected by the stay-at-home orders issued. In light of this, we believe it’s important to consider how the pandemic, and the stay-at-home orders issued, affect people’s livelihoods and access to food.\n",
    " \n",
    "### What background information led to your hypothesis?<br>\n",
    "&emsp;Certain communities in the greater San Diego area had suffered from food insecurity prior to the advent of this pandemic. According to an article on Fortune magazine, since the beginning of the pandemic, unemployment has skyrocketed from 4% to nearly 18%. Another article by Fortune, published 04/09/2020, states that “The total weekly claims fell close to 1.4 million from last week's 6.6 million initial unemployment claims.” Furthermore, according to an article published on yahoo! finance, “Economists had been expecting the report to show the ranks of jobless Americans increasing by 5.5 million.” Meanwhile, information made available by the USDA indicates that food production has been decreasing as a result of the pandemic. Consequently, food banks are reporting an unprecedented increase in demand, and the possibility of the US facing a food crisis is real.\n",
    " \n",
    "### Why is this important?<br>\n",
    "&emsp;We believe that this pandemic’s impact on the US goes beyond the lives it has claimed. The advent of the pandemic has resulted in stay-at-home orders which have increased the number of jobless Americans, limiting their financial resources and thus their ability to secure basic necessities, such as food. An analysis of the pandemic’s effect on the public’s access to food could result in a better understanding of the area’s food supply chain, which could be used by decision-makers and other relevant stakeholders to alleviate current shortages, and perhaps to prevent other shortages from occurring in the future.\n",
    " \n",
    "### What has already been done on this topic? What is already known?<br>\n",
    "&emsp;COVID-19 is a respiratory virus that is highly contagious and has infected well over 210 countries around the world, resulting in an on-going global pandemic. In order to curtail the spread of the disease, many governments have issued strict stay-at-home directives. These directives have resulted in the closure of businesses and increased unemployment. \n",
    "&emsp;There have been studies and visualizations done in many countries worldwide highlighting spots where food insecurity is prevalent. These studies demonstrate that COVID-19 has only aggravated food insecurity, especially in countries where food insecurity was already prevalent.\n",
    " \n",
    "### References (include links):\n",
    "1. [San Diego Hunger Coalition](https://www.sandiegohungercoalition.org/research)\n",
    "2. [UCSD Community Health](https://ucsdcommunityhealth.org) \n",
    "3. [Foods Typically Purchased by Supplemental Nutrition Assistance Program (SNAP) Households](https://www.fns.usda.gov/snap/foods-typically-purchased-supplemental-nutrition-assistance-program-snap-households) \n",
    "4. [Food Security Information Network](https://www.fsinplatform.org)\n",
    "5. [Feeding San Diego](https://give.feedingsandiego.org/give/276805/?gclid=EAIaIQobChMIxpXxttfj6AIVQRx9Ch1mVwQhEAAYASAAEgIsovD_BwE#!/donation/checkout)\n",
    "6. [Neighborhood distribution Program](https://sandiegofoodbank.org/programs/neighborhood-distribution-program/)\n",
    "7. [Food assistance during COVID-19 Pandemic](https://www.sandiegouniontribune.com/north-county-community-news/story/2020-04-01/where-to-get-food-supplies-during-the-covid-19-pandemic)\n",
    "8. [Greater Pittsburgh Community Foodbank - Our response to COVID-19](https://www.pittsburghfoodbank.org/2020/03/12/coronavirus/)\n",
    "9. [USDA - Coronavirus Disease](https://www.usda.gov/coronavirus)\n",
    "10. [A perfect storm: US facing hunger crisis as demand for food banks soars](https://www.theguardian.com/environment/2020/apr/02/us-food-banks-coronavirus-demand-unemployment)\n",
    "11. [Jobless claims: Another 5.245 million Americans file for unemployment benefits](https://finance.yahoo.com/news/coronavirus-covid-weekly-initial-jobless-claims-april-11-192401571.html)\n",
    "12. [22 million have lost their jobs over the past month—real unemployment rate likely nearing 18%](https://fortune.com/2020/04/16/us-unemployment-rate-numbers-claims-this-week-total/)\n",
    "13. [Food deserts and access to fresh food in low-income San Diego / by Emily Theresa Puhl](http://roger.ucsd.edu/search~S9?/Xfood+++san+diego&searchscope=9&SORT=D/Xfood+++san+diego&searchscope=9&SORT=D&SUBKEY=food+++san+diego/1%2C4626%2C4626%2CE/frameset&FF=Xfood+++san+diego&searchscope=9&SORT=D&12%2C12%2C)\n",
    "14. [COVID-19](https://covid19.ca.gov/)\n"
   ]
  },
  {
   "cell_type": "markdown",
   "metadata": {},
   "source": [
    "# Hypothesis\n"
   ]
  },
  {
   "cell_type": "markdown",
   "metadata": {},
   "source": [
    "The outbreak of COVID-19 has negatively impacted individuals’ access to food, disproportionately affecting the financially insecure and communities of color. These groups were already limited in their ability to provide for themselves and their families, and the pandemic has only made it more difficult for them to do so."
   ]
  },
  {
   "cell_type": "markdown",
   "metadata": {},
   "source": [
    "# Data"
   ]
  },
  {
   "cell_type": "markdown",
   "metadata": {},
   "source": [
    "- Data regarding the number of food-insecure people in the greater San Diego area, preferably given as a geographic distribution.\n",
    "- Demographic information about the population of the greater San Diego area from the most recent US census.\n",
    "- Data about local food-banks’ stock, and the number of people making use of their services, stretching back to April 2019.\n",
    "- Data about consumer habits and sales volume at grocery chains such as Vons, and Trader Joe’s by day, stretching back to April 2019.\n",
    "- Data about the number of daily users and sales volumes for online food ordering apps such as Uber Eats, DoorDash, etc.. by day, stretching back to April 2019\n"
   ]
  },
  {
   "cell_type": "markdown",
   "metadata": {},
   "source": [
    "# Ethics & Privacy"
   ]
  },
  {
   "cell_type": "markdown",
   "metadata": {},
   "source": [
    "The question is well-posed and narrow enough in scope to be answerable. We might inadvertently track some correlates such as race and gender relations in the United States, as a result of our examination of the chosen population.\n",
    "\n",
    "Some of the relevant stakeholders are the people of greater San Diego, food producers and suppliers, the agricultural industry, the trucking industry, as well as local, state, and federal government. A model of how the epidemic affects communities in the greater San Diego area might factor into the government’s response to the epidemic, positively affecting underserved communities; and individuals' access to basic staples. Because the data we are looking at is exclusively about lower-income communities in San Diego, this is the only group we can generalize to with 100% certainty. Even then, our model might not be generalizable to the same population in future pandemics, due to the unique nature of this outbreak. Although we do not expect our model to be generalizable, if it were it could be used to assess other communities' vulnerabilities during future epidemics. It is also worth noting that if the model is not correct, it might result in decision-makers making decisions that adversely affect peoples’ access to food. \n",
    "\n",
    "We expect there to be relative data available, and accessible. It is unclear if we would have enough data to make reliable inferences regarding how communities will continue to be affected by this epidemic in the future. In terms of biases, it is possible that underserved communities and individuals might have their food needs met by organizations and individuals outside the scope of available data, (churches, religious institutions), might not participate in a census, and/or be documented.\n",
    "\n",
    "Informed consent cannot be given to our research, but since we expect all the data to be anonymized to begin with, this might not be a factor.\n",
    "\n",
    "Since the data we will rely on is anonymized, we do not expect any privacy issues. If some of the data is not sufficiently anonymized, we will anonymize it. Making use of anonymized data should ensure we do not violate our subjects’ privacy. "
   ]
  },
  {
   "cell_type": "markdown",
   "metadata": {},
   "source": [
    "# Team Expectations"
   ]
  },
  {
   "cell_type": "markdown",
   "metadata": {},
   "source": [
    "- Communicate openly and honestly\n",
    "- Respect deadlines and other team members\n",
    "- Feel free to reach out for help when needed without any hesitation; we are a team and will try to lift each other up when we can\n",
    "- Search for common ground, look for consensus.\n"
   ]
  },
  {
   "cell_type": "markdown",
   "metadata": {},
   "source": [
    "# Project Timeline Proposal"
   ]
  },
  {
   "cell_type": "markdown",
   "metadata": {},
   "source":[
    | Meeting Date | Meeting Time | Completed Before Meeting | Discuss at Meeting|
    | :---         |    :----:    |          :---:           |        ---:       |
    | Header       | Title        |         Here is this     |                   |
    | Paragraph    | Text         | And more                 |                   |
   ]
  }
  
  
 ],
 "metadata": {
  "kernelspec": {
   "display_name": "Python 3",
   "language": "python",
   "name": "python3"
  },
  "language_info": {
   "codemirror_mode": {
    "name": "ipython",
    "version": 3
   },
   "file_extension": ".py",
   "mimetype": "text/x-python",
   "name": "python",
   "nbconvert_exporter": "python",
   "pygments_lexer": "ipython3",
   "version": "3.7.6"
  }
 },
 "nbformat": 4,
 "nbformat_minor": 2
}
