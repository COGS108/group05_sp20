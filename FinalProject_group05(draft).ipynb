{
 "cells": [
  {
   "cell_type": "markdown",
   "metadata": {},
   "source": [
    "# __COGS 108 - Final Project__"
   ]
  },
  {
   "cell_type": "markdown",
   "metadata": {},
   "source": [
    "## Permissions"
   ]
  },
  {
   "cell_type": "markdown",
   "metadata": {},
   "source": [
    "Place an `X` in the appropriate bracket below to specify if you would like your group's project to be made available to the public. (Note that PIDs will be scraped from the public submission, but student names will be included.)\n",
    "\n",
    "* [_X_] YES - make available\n",
    "* [  ] NO - keep private"
   ]
  },
  {
   "cell_type": "markdown",
   "metadata": {},
   "source": [
    "# Overview"
   ]
  },
  {
   "cell_type": "markdown",
   "metadata": {},
   "source": [
    "*Fill in your overview here*"
   ]
  },
  {
   "cell_type": "markdown",
   "metadata": {},
   "source": [
    "# Names\n",
    "\n",
    "- Gadi Rosen\n",
    "- Rujvi Mehendre\n",
    "- Henry Lozada\n",
    "- Joshua Paz"
   ]
  },
  {
   "cell_type": "markdown",
   "metadata": {},
   "source": [
    "# Group Members IDs\n",
    "- A16105613\n",
    "- A14553468\n",
    "- A15127559\n",
    "- A13300845"
   ]
  },
  {
   "cell_type": "markdown",
   "metadata": {},
   "source": [
    "## Research Question"
   ]
  },
  {
   "cell_type": "markdown",
   "metadata": {},
   "source": [
    "How has the outbreak of COVID-19 affected food security in communities in the greater San Diego area?"
   ]
  },
  {
   "cell_type": "markdown",
   "metadata": {},
   "source": [
    "## Background and Prior Work"
   ]
  },
  {
   "cell_type": "markdown",
   "metadata": {},
   "source": [
    "### Why is this project of interest to your group?<br>\n",
    "&emsp;The pandemic has claimed many lives, but its impact on the US goes beyond that. People of limited financial means have been disproportionately affected by the stay-at-home orders issued. In light of this, we believe it’s important to consider how the pandemic, and the stay-at-home orders issued, affect people’s livelihoods and access to food.\n",
    " \n",
    "### What background information led to your hypothesis?<br>\n",
    "&emsp;Certain communities in the greater San Diego area [had suffered from food insecurity prior to the advent of this pandemic](http://roger.ucsd.edu/search~S9?/Xfood+++san+diego&searchscope=9&SORT=D/Xfood+++san+diego&searchscope=9&SORT=D&SUBKEY=food+++san+diego/1%2C4626%2C4626%2CE/frameset&FF=Xfood+++san+diego&searchscope=9&SORT=D&12%2C12%2C)<sup>1</sup>. According to an article on [Fortune magazine](https://fortune.com/2020/04/16/us-unemployment-rate-numbers-claims-this-week-total/)<sup>2</sup>, since the beginning of the pandemic, unemployment has skyrocketed from 4% to nearly 18%. [Another article by Fortune](https://fortune.com/2020/04/09/ureal-unemployment-rate-jobless-claims-this-week/)<sup>3</sup>, published 04/09/2020, states that “_The total weekly claims fell close to 1.4 million from last week's 6.6 million initial unemployment claims._” Furthermore, according to an article published on [yahoo! finance](https://finance.yahoo.com/news/coronavirus-covid-weekly-initial-jobless-claims-april-11-192401571.html)<sup>4</sup>, “_Economists had been expecting the report to show the ranks of jobless Americans increasing by 5.5 million._” Meanwhile, information made available by the [USDA](https://quickstats.nass.usda.gov/recent_stats)<sup>5</sup> indicates that food production has been decreasing as a result of the pandemic. Consequently, food banks are reporting an [unprecedented increase in demand](https://www.theguardian.com/environment/2020/apr/02/us-food-banks-coronavirus-demand-unemployment)<sup>6</sup>, and the possibility of the US facing a food crisis is real.\n",
    " \n",
    "### Why is this important?<br>\n",
    "&emsp;We believe that this pandemic’s impact on the US goes beyond the lives it has claimed. The advent of the pandemic has resulted in stay-at-home orders which have increased the number of jobless Americans, limiting their financial resources and thus their ability to secure basic necessities, such as food. An analysis of the pandemic’s effect on the public’s access to food could result in a better understanding of the area’s food supply chain, which could be used by decision-makers and other relevant stakeholders to alleviate current shortages, and perhaps to prevent other shortages from occurring in the future.\n",
    " \n",
    "### What has already been done on this topic? What is already known?<br>\n",
    "&emsp;[COVID-19](https://covid19.ca.gov/)<sup>7</sup> is a respiratory virus that is highly contagious and has infected well over 210 countries around the world, resulting in an on-going global pandemic. In order to curtail the spread of the disease, many governments have issued strict stay-at-home directives. These directives have resulted in the closure of businesses and increased unemployment. \n",
    "\n",
    "&emsp;There have been studies and visualizations done in many countries worldwide highlighting spots where food insecurity is prevalent. These studies demonstrate that COVID-19 has only aggravated food insecurity, especially in countries where food insecurity was already prevalent.\n",
    "\n",
    "### References:\n",
    "1. [Food deserts and access to fresh food in low-income San Diego / by Emily Theresa Puhl](http://roger.ucsd.edu/search~S9?/Xfood+++san+diego&searchscope=9&SORT=D/Xfood+++san+diego&searchscope=9&SORT=D&SUBKEY=food+++san+diego/1%2C4626%2C4626%2CE/frameset&FF=Xfood+++san+diego&searchscope=9&SORT=D&12%2C12%2C)\n",
    "2. [22 million have lost their jobs over the past month—real unemployment rate likely nearing 18%](https://fortune.com/2020/04/16/us-unemployment-rate-numbers-claims-this-week-total/)\n",
    "3. [Real unemployment in the United States has likely hit 14.7%, the highest level since 1940](https://fortune.com/2020/04/09/ureal-unemployment-rate-jobless-claims-this-week/)\n",
    "4. [Jobless claims: Another 5.245 million Americans file for unemployment benefits](https://finance.yahoo.com/news/coronavirus-covid-weekly-initial-jobless-claims-april-11-192401571.html)\n",
    "5. [USDA - Quick Stats](https://quickstats.nass.usda.gov)\n",
    "6. [A perfect storm: US facing hunger crisis as demand for food banks soars](https://www.theguardian.com/environment/2020/apr/02/us-food-banks-coronavirus-demand-unemployment)\n",
    "7. [COVID-19](https://covid19.ca.gov/)\n",
    "8. [San Diego Hunger Coalition](https://www.sandiegohungercoalition.org/research)\n",
    "9. [UCSD Community Health](https://ucsdcommunityhealth.org) \n",
    "10. [Foods Typically Purchased by Supplemental Nutrition Assistance Program (SNAP) Households](https://www.fns.usda.gov/snap/foods-typically-purchased-supplemental-nutrition-assistance-program-snap-households)\n",
    "11. [Food Security Information Network](https://www.fsinplatform.org)\n",
    "12. [Feeding San Diego](https://give.feedingsandiego.org/give/276805/?gclid=EAIaIQobChMIxpXxttfj6AIVQRx9Ch1mVwQhEAAYASAAEgIsovD_BwE#!/donation/checkout)\n",
    "13. [Neighborhood distribution Program](https://sandiegofoodbank.org/programs/neighborhood-distribution-program/)\n",
    "14. [Food assistance during COVID-19 Pandemic](https://www.sandiegouniontribune.com/north-county-community-news/story/2020-04-01/where-to-get-food-supplies-during-the-covid-19-pandemic)\n",
    "15. [Greater Pittsburgh Community Foodbank - Our response to COVID-19](https://www.pittsburghfoodbank.org/2020/03/12/coronavirus/)\n",
    "16. [USDA - Coronavirus Disease](https://www.usda.gov/coronavirus)\n",
    "17. [Nutritional Goals for Age-Sex Groups Based on Dietary Reference Intakes and Dietary Guidelines Recommendations](https://health.gov/our-work/food-nutrition/2015-2020-dietary-guidelines/guidelines/appendix-7/)\n"
   ]
  },
  {
   "cell_type": "markdown",
   "metadata": {},
   "source": [
    "# Hypothesis"
   ]
  },
  {
   "cell_type": "markdown",
   "metadata": {},
   "source": [
    "The outbreak of COVID-19 has negatively impacted individuals’ access to food, disproportionately affecting the financially insecure and communities of color. These groups were already limited in their ability to provide for themselves and their families, and the pandemic has only made it more difficult for them to do so.\n"
   ]
  },
  {
   "cell_type": "markdown",
   "metadata": {},
   "source": [
    "# Dataset(s)"
   ]
  },
  {
   "cell_type": "markdown",
   "metadata": {},
   "source": [
    "1. San Diego Foodbank - Lbs of food distributed\n",
    "2. SANDAG/SanGIS regional GIS data\n",
    "3. SANDAG 2018 population estimates by Zip"
   ]
  },
  {
   "cell_type": "markdown",
   "metadata": {},
   "source": [
    "# Setup"
   ]
  },
  {
   "cell_type": "code",
   "execution_count": null,
   "metadata": {},
   "outputs": [],
   "source": [
    "# Imports\n",
    "%matplotlib inline\n",
    "import fiona\n",
    "import pandas as pd\n",
    "import geopandas as gpd\n",
    "import numpy as np\n",
    "\n",
    "import matplotlib.pyplot as plt\n",
    "plt.rcParams['figure.figsize'] = (17, 5)\n",
    "plt.rcParams.update({'font.size': 16})\n",
    "from mpl_toolkits.axes_grid1 import make_axes_locatable\n",
    "import seaborn as sns\n",
    "\n",
    "import shapely.geometry as shp\n",
    "\n",
    "import sklearn.neighbors as skn\n",
    "import sklearn.metrics as skm\n",
    "\n",
    "import warnings\n",
    "warnings.filterwarnings('ignore')\n",
    "\n",
    "pd.options.display.max_rows = 10\n",
    "\n",
    "#improve resolution\n",
    "#comment this line if erroring on your machine/screen\n",
    "%config InlineBackend.figure_format ='retina'"
   ]
  },
  {
   "cell_type": "code",
   "execution_count": null,
   "metadata": {},
   "outputs": [],
   "source": [
    "filepath = \"Census_Data/Census_ZIP.shp\"\n",
    "tempmap = gpd.read_file(filepath)\n",
    "pop = pd.read_excel(\"Household Population ZIP.xlsx\")\n",
    "sdmap= pd.merge(tempmap, pop, on='ZIP', how='left')"
   ]
  },
  {
   "cell_type": "code",
   "execution_count": null,
   "metadata": {},
   "outputs": [],
   "source": [
    "#Population by Zip code\n",
    "fig, ax = plt.subplots(1, 1, figsize=(17, 7))\n",
    "divider = make_axes_locatable(ax)\n",
    "sdmap.plot(column='POPULATION', ax=ax, cmap='GnBu', legend=True);"
   ]
  },
  {
   "cell_type": "code",
   "execution_count": null,
   "metadata": {},
   "outputs": [],
   "source": [
    "addresses = gpd.read_file('ADDRESS_APN.shp')"
   ]
  },
  {
   "cell_type": "code",
   "execution_count": null,
   "metadata": {},
   "outputs": [],
   "source": [
    "addresses.head(5)\n",
    "#addresses[addresses['ADDRFRAC'] != \"None\"]\n",
    "#Check to see if 14925 Great Southern Overland Stage in addresses\n",
    "#Is \"Glen\", \"Broadway\" and ADDRNAME?\n",
    "#How to handle highways? Ex: 4141 Pacific Highway\n",
    "#addresses['ADDRSFX'].unique()"
   ]
  },
  {
   "cell_type": "code",
   "execution_count": null,
   "metadata": {},
   "outputs": [],
   "source": [
    "#Read in all foodbank data\n",
    "#2019\n",
    "Jan2019 = pd.read_excel(\"San_Diego_Foodbank_Data/Jan 2019.xlsx\")\n",
    "Feb2019 = pd.read_excel(\"San_Diego_Foodbank_Data/Feb 2019.xlsx\")\n",
    "Mar2019 = pd.read_excel(\"San_Diego_Foodbank_Data/Mar 2019.xlsx\")\n",
    "Apr2019 = pd.read_excel(\"San_Diego_Foodbank_Data/Apr 2019.xlsx\")\n",
    "#2020\n",
    "Jan2020 = pd.read_excel(\"San_Diego_Foodbank_Data/Jan 2020.xlsx\")\n",
    "Feb2020 = pd.read_excel(\"San_Diego_Foodbank_Data/Feb 2020.xlsx\")\n",
    "Mar2020 = pd.read_excel(\"San_Diego_Foodbank_Data/Mar 2020.xlsx\")\n",
    "Apr2020 = pd.read_excel(\"San_Diego_Foodbank_Data/Apr 2020.xlsx\")\n",
    "\n",
    "#Note: Number of foodbanks sampled varies from year to year and month to month.\n",
    "#----------------------------------------------------------------------------------\n",
    "    # Jan 2019: 452\n",
    "    # Feb 2019: 387\n",
    "    # Mar 2019: 431\n",
    "    # Apr 2019: 418\n",
    "    #--------------\n",
    "    # Jan 2020: 486\n",
    "    # Feb 2020: 331\n",
    "    # Mar 2020: 481\n",
    "    # Apr 2020: 454\n",
    "#----------------------------------------------------------------------------------\n",
    "# Suggestion: Consider only foodbanks that consistently appear throughout all dfs.\n",
    "# Solution: Merge all of the dfs by inner?\n",
    "col = pd.merge(Jan2019, Feb2019, on='STREET ADDRESS', how='inner')\n",
    "col = pd.merge(col, Mar2019, on='STREET ADDRESS', how='inner')\n",
    "col = pd.merge(col, Apr2019, on='STREET ADDRESS', how='inner')\n",
    "col = pd.merge(col, Jan2020, on='STREET ADDRESS', how='inner')\n",
    "col = pd.merge(col, Feb2020, on='STREET ADDRESS', how='inner')\n",
    "col = pd.merge(col, Mar2020, on='STREET ADDRESS', how='inner')\n",
    "col = pd.merge(col, Apr2020, on='STREET ADDRESS', how='inner')\n",
    "col.drop_duplicates(subset=\"STREET ADDRESS\", inplace=True)"
   ]
  },
  {
   "cell_type": "code",
   "execution_count": null,
   "metadata": {},
   "outputs": [],
   "source": [
    "# If done correctly, there are only 193 foodbanks that appear in all records. We will work exclusively with these.\n",
    "col"
   ]
  },
  {
   "cell_type": "code",
   "execution_count": null,
   "metadata": {},
   "outputs": [],
   "source": [
    "# Write function to split STREET ADDRESS into:\n",
    "#     1. ADDRNMBR\n",
    "#     2. ADDRFRAC\n",
    "#     3. ADDRNAME\n",
    "#     4. ADDRUNIT\n",
    "\"\"\" \n",
    "1. Avenue X\n",
    "2. Drive X\n",
    "3. Street X\n",
    "4. Ave X\n",
    "5. Lane X\n",
    "6. St. X\n",
    "7. Way X\n",
    "8. Dr. X\n",
    "9. Ave. X\n",
    "10. St X\n",
    "11. Road X\n",
    "12. Dr X\n",
    "13. Blvd X\n",
    "14. Rd X\n",
    "15. Boulevard X\n",
    "16. Glen?\n",
    "17. Trail\n",
    "18. Circle\n",
    "19. Terrace\n",
    "20. Parkway\n",
    "21. Place\n",
    "22. Park\n",
    "23. Court\n",
    "24. Route\"\"\"\n",
    "\n",
    "\n",
    "def standardize_address(string):\n",
    "    try:\n",
    "        string = string.upper()\n",
    "        string = string.split(\" \", 1)\n",
    "        if \"-\" in string[0]:\n",
    "            string[0].split(\"-\", 1)\n",
    "            addrnumber = string[0].split(\"-\")[0]\n",
    "            addrunit = string[0].split(\"-\")[1]\n",
    "        else:\n",
    "            addrnumber = float(string[0])\n",
    "        addrsfx = \"\"\n",
    "        addrsuite = \"\"\n",
    "        addrname = \"\"\n",
    "        string = string[1]\n",
    "        if \",\" in string:\n",
    "            string = string.rsplit(\",\", 1)\n",
    "            addrsuite = string[1].strip()\n",
    "        AveSuffixes = ['Avenue', 'Ave', 'Ave.']\n",
    "        DriveSuffixes = ['Drive', 'Dr', 'Dr.']\n",
    "        StreetSuffixes = ['Street', 'St.', 'St']\n",
    "        RoadSuffixes = ['Road', 'Rd']\n",
    "        BoulevardSuffixes = ['Boulevard', 'Blvd']\n",
    "\n",
    "        for e in AveSuffixes:\n",
    "            if e.upper() in string:\n",
    "                addrsfx = 'AVE'\n",
    "                string = string.split(e.upper(), 1)\n",
    "\n",
    "        for e in RoadSuffixes:\n",
    "            if e.upper() in string:\n",
    "                addrsfx = 'RD'\n",
    "                string = string.split(e.upper(), 1)\n",
    "\n",
    "        for e in StreetSuffixes:\n",
    "            if e.upper() in string:\n",
    "                addrsfx = 'ST'\n",
    "                string = string.split(e.upper(), 1)\n",
    "\n",
    "        for e in DriveSuffixes:\n",
    "            if e.upper() in string:\n",
    "                addrsfx = 'DR'\n",
    "                string = string.split(e.upper(), 1)\n",
    "\n",
    "        for e in BoulevardSuffixes:\n",
    "            if e.upper() in string:\n",
    "                addrsfx = 'BLVD'\n",
    "                string = string.split(e.upper(), 1)\n",
    "\n",
    "        if \"LANE\" in string:\n",
    "            addrsfx = 'LN'\n",
    "            string = string.split(\"LANE\", 1)\n",
    "\n",
    "        elif \"WAY\" in string:\n",
    "            addrsfx = 'WAY'\n",
    "            string = string.split(\"WAY\", 1)\n",
    "\n",
    "        elif \"GLEN\" in string:\n",
    "            addrsfx = 'GLEN'\n",
    "            string = string.split(\"GLEN\", 1)\n",
    "\n",
    "        elif \"PARKWAY\" in string:\n",
    "            addrsfx = \"PKWY\"\n",
    "            string = string.split(\"PARKWAY\", 1)\n",
    "\n",
    "        elif \"TRAIL\" in string:\n",
    "            addrsfx = \"TRL\"\n",
    "            string = string.split(\"TRAIL\", 1)\n",
    "\n",
    "        elif \"CIRCLE\" in string:\n",
    "            addrsfx = \"CIR\"\n",
    "            string = string.split(\"CIRCLE\", 1)\n",
    "\n",
    "        elif \"TERRACE\" in string:\n",
    "            addrsfx = \"TER\"\n",
    "            string = string.split(\"TERRACE\", 1)\n",
    "\n",
    "        elif \"PLACE\" in string:\n",
    "            addrsfx = \"PL\"\n",
    "            string = string.split(\"PLACE\", 1)\n",
    "\n",
    "        elif \"PARK\" in string:\n",
    "            addrsfx = \"PARK\"\n",
    "            string = string.split(\"PARK\", 1)\n",
    "\n",
    "        elif \"COURT\" in string:\n",
    "            addrsfx = \"CT\"\n",
    "            string = string.split(\"COURT\", 1)\n",
    "\n",
    "        elif \"ROUTE\" in string:\n",
    "            addrsfx = \"RTE\" # Try RT if this doesn't work\n",
    "            string = string.split(\"ROUTE\", 1)\n",
    "\n",
    "        addrname = string[0].strip()\n",
    "\n",
    "        return addrnumber, addrname, addrsfx, addrsuite\n",
    "    \n",
    "    except:\n",
    "        print(\"no good\")\n",
    "\n",
    "\n",
    "    # check rows, cols, check weird cases\n",
    "    # unique rows and columns with .unique() function\n",
    "    # printing every column in terms of a list"
   ]
  },
  {
   "cell_type": "code",
   "execution_count": null,
   "metadata": {},
   "outputs": [],
   "source": [
    "# initialize list of lists \n",
    "  \n",
    "# Create the pandas DataFrame \n",
    "#data = pd.DataFrame(data, columns = ['number', 'name', 'suffix', 'suite', 'unit'])\n",
    "temp = col.iloc[0,2]\n",
    "temp\n",
    "standardize_address('630 Grapevine Road')"
   ]
  },
  {
   "cell_type": "markdown",
   "metadata": {},
   "source": [
    "# Data Cleaning"
   ]
  },
  {
   "cell_type": "markdown",
   "metadata": {},
   "source": [
    "Describe your data cleaning steps here."
   ]
  },
  {
   "cell_type": "code",
   "execution_count": null,
   "metadata": {},
   "outputs": [],
   "source": [
    "## YOUR CODE HERE\n",
    "## FEEL FREE TO ADD MULTIPLE CELLS PER SECTION"
   ]
  },
  {
   "cell_type": "markdown",
   "metadata": {},
   "source": [
    "# Data Analysis & Results"
   ]
  },
  {
   "cell_type": "markdown",
   "metadata": {},
   "source": [
    "Include cells that describe the steps in your data analysis."
   ]
  },
  {
   "cell_type": "code",
   "execution_count": null,
   "metadata": {},
   "outputs": [],
   "source": [
    "## YOUR CODE HERE\n",
    "## FEEL FREE TO ADD MULTIPLE CELLS PER SECTION"
   ]
  },
  {
   "cell_type": "markdown",
   "metadata": {},
   "source": [
    "# Ethics & Privacy"
   ]
  },
  {
   "cell_type": "markdown",
   "metadata": {},
   "source": [
    "The question is well-posed and narrow enough in scope to be answerable. We might inadvertently track some correlates such as race and gender relations in the United States, as a result of our examination of the chosen population.\n",
    "\n",
    "Some of the relevant stakeholders are the people of greater San Diego, food producers and suppliers, the agricultural industry, the trucking industry, as well as local, state, and federal government. A model of how the epidemic affects communities in the greater San Diego area might factor into the government’s response to the epidemic, positively affecting underserved communities; and individuals' access to basic staples. Because the data we are looking at is exclusively about lower-income communities in San Diego, this is the only group we can generalize to with 100% certainty. Even then, our model might not be generalizable to the same population in future pandemics, due to the unique nature of this outbreak. Although we do not expect our model to be generalizable, if it were it could be used to assess other communities' vulnerabilities during future epidemics. It is also worth noting that if the model is not correct, it might result in decision-makers making decisions that adversely affect peoples’ access to food. \n",
    "\n",
    "We expect there to be relative data available, and accessible. It is unclear if we would have enough data to make reliable inferences regarding how communities will continue to be affected by this epidemic in the future. In terms of biases, it is possible that underserved communities and individuals might have their food needs met by organizations and individuals outside the scope of available data, (churches, religious institutions), might not participate in a census, and/or be documented.\n",
    "\n",
    "Informed consent cannot be given to our research, but since we expect all the data to be anonymized to begin with, this might not be a factor.\n",
    "\n",
    "Since the data we will rely on is anonymized, we do not expect any privacy issues. If some of the data is not sufficiently anonymized, we will anonymize it. Making use of anonymized data should ensure we do not violate our subjects’ privacy. "
   ]
  },
  {
   "cell_type": "markdown",
   "metadata": {},
   "source": [
    "# Conclusion & Discussion"
   ]
  },
  {
   "cell_type": "markdown",
   "metadata": {},
   "source": [
    "*Fill in your discussion information here*"
   ]
  },
  {
   "cell_type": "markdown",
   "metadata": {},
   "source": [
    "# Team Contributions"
   ]
  },
  {
   "cell_type": "markdown",
   "metadata": {},
   "source": [
    "*Specify who in your group worked on which parts of the project.*"
   ]
  }
 ],
 "metadata": {
  "kernelspec": {
   "display_name": "Python 3",
   "language": "python",
   "name": "python3"
  },
  "language_info": {
   "codemirror_mode": {
    "name": "ipython",
    "version": 3
   },
   "file_extension": ".py",
   "mimetype": "text/x-python",
   "name": "python",
   "nbconvert_exporter": "python",
   "pygments_lexer": "ipython3",
   "version": "3.6.7"
  }
 },
 "nbformat": 4,
 "nbformat_minor": 2
}
